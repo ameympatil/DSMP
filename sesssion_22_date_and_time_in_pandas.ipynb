{
  "nbformat": 4,
  "nbformat_minor": 0,
  "metadata": {
    "colab": {
      "provenance": [],
      "include_colab_link": true
    },
    "kernelspec": {
      "name": "python3",
      "display_name": "Python 3"
    },
    "language_info": {
      "name": "python"
    }
  },
  "cells": [
    {
      "cell_type": "markdown",
      "metadata": {
        "id": "view-in-github",
        "colab_type": "text"
      },
      "source": [
        "<a href=\"https://colab.research.google.com/github/ameympatil/DSMP/blob/main/sesssion_22_date_and_time_in_pandas.ipynb\" target=\"_parent\"><img src=\"https://colab.research.google.com/assets/colab-badge.svg\" alt=\"Open In Colab\"/></a>"
      ]
    },
    {
      "cell_type": "code",
      "execution_count": 30,
      "metadata": {
        "id": "FuP2atHNtHbr"
      },
      "outputs": [],
      "source": [
        "import numpy as np\n",
        "import pandas as pd"
      ]
    },
    {
      "cell_type": "markdown",
      "source": [
        "### Timestamp Object\n",
        "\n",
        "Time stamps reference particular moments in time (e.g., Oct 24th, 2022 at 7:00pm)"
      ],
      "metadata": {
        "id": "GEXZCSwWthTK"
      }
    },
    {
      "cell_type": "markdown",
      "source": [
        "### Creating Timestamp objects"
      ],
      "metadata": {
        "id": "XH2gU7GZvKB6"
      }
    },
    {
      "cell_type": "code",
      "source": [
        "# creating a timestamp\n",
        "type(pd.Timestamp('2023/1/5'))"
      ],
      "metadata": {
        "colab": {
          "base_uri": "https://localhost:8080/"
        },
        "id": "Y52x2MS-0ct7",
        "outputId": "9c73cfba-9f09-46a8-aa79-5b84334a6a11"
      },
      "execution_count": 31,
      "outputs": [
        {
          "output_type": "execute_result",
          "data": {
            "text/plain": [
              "pandas._libs.tslibs.timestamps.Timestamp"
            ]
          },
          "metadata": {},
          "execution_count": 31
        }
      ]
    },
    {
      "cell_type": "code",
      "source": [
        "# variations\n",
        "pd.Timestamp('2023-1-5')\n",
        "pd.Timestamp('2023, 1, 5')"
      ],
      "metadata": {
        "colab": {
          "base_uri": "https://localhost:8080/"
        },
        "id": "bj-V1BMotPLC",
        "outputId": "4df1cdd7-e9e5-4f96-ce99-43363367558b"
      },
      "execution_count": 32,
      "outputs": [
        {
          "output_type": "execute_result",
          "data": {
            "text/plain": [
              "Timestamp('2023-01-05 00:00:00')"
            ]
          },
          "metadata": {},
          "execution_count": 32
        }
      ]
    },
    {
      "cell_type": "code",
      "source": [
        "# only year\n",
        "pd.Timestamp('2023')"
      ],
      "metadata": {
        "colab": {
          "base_uri": "https://localhost:8080/"
        },
        "id": "mB-UXNVD0jyl",
        "outputId": "8e11beea-1618-4944-b1e3-241fb8a8d5a8"
      },
      "execution_count": 33,
      "outputs": [
        {
          "output_type": "execute_result",
          "data": {
            "text/plain": [
              "Timestamp('2023-01-01 00:00:00')"
            ]
          },
          "metadata": {},
          "execution_count": 33
        }
      ]
    },
    {
      "cell_type": "code",
      "source": [
        "# using text\n",
        "pd.Timestamp('5th January 2023')"
      ],
      "metadata": {
        "colab": {
          "base_uri": "https://localhost:8080/"
        },
        "id": "iY1GA2Eb0osz",
        "outputId": "dfbe2471-ea0e-4830-d062-bbcecbcbac09"
      },
      "execution_count": 34,
      "outputs": [
        {
          "output_type": "execute_result",
          "data": {
            "text/plain": [
              "Timestamp('2023-01-05 00:00:00')"
            ]
          },
          "metadata": {},
          "execution_count": 34
        }
      ]
    },
    {
      "cell_type": "code",
      "source": [
        "# providing time also\n",
        "pd.Timestamp('5th January 2023 9:21AM')\n",
        "# pd.Timestamp('2023/1/5/9/21')"
      ],
      "metadata": {
        "colab": {
          "base_uri": "https://localhost:8080/"
        },
        "id": "X9kcHRAq0uGf",
        "outputId": "dc28ac54-6112-42a8-f4e1-cb934fe1aea0"
      },
      "execution_count": 35,
      "outputs": [
        {
          "output_type": "execute_result",
          "data": {
            "text/plain": [
              "Timestamp('2023-01-05 09:21:00')"
            ]
          },
          "metadata": {},
          "execution_count": 35
        }
      ]
    },
    {
      "cell_type": "code",
      "source": [
        "# AM and PM"
      ],
      "metadata": {
        "id": "AhlvkJz80w2v"
      },
      "execution_count": 36,
      "outputs": []
    },
    {
      "cell_type": "code",
      "source": [
        "# using datetime.datetime object\n",
        "import datetime as dt\n",
        "\n",
        "x = pd.Timestamp(dt.datetime(2023,1,5,9,21,56))\n",
        "x"
      ],
      "metadata": {
        "colab": {
          "base_uri": "https://localhost:8080/"
        },
        "id": "Y18HScxQ0yRT",
        "outputId": "96cf42be-3f7d-4272-9a92-4b653f45d09f"
      },
      "execution_count": 37,
      "outputs": [
        {
          "output_type": "execute_result",
          "data": {
            "text/plain": [
              "Timestamp('2023-01-05 09:21:56')"
            ]
          },
          "metadata": {},
          "execution_count": 37
        }
      ]
    },
    {
      "cell_type": "code",
      "source": [
        "# fetching attributes\n",
        "x.year\n",
        "x.month\n",
        "x.day\n",
        "x.hour\n",
        "x.minute\n",
        "x.second"
      ],
      "metadata": {
        "colab": {
          "base_uri": "https://localhost:8080/"
        },
        "id": "oY00r9U71OK4",
        "outputId": "587047b3-037c-4aea-f5fe-fb260a1de5d8"
      },
      "execution_count": 38,
      "outputs": [
        {
          "output_type": "execute_result",
          "data": {
            "text/plain": [
              "56"
            ]
          },
          "metadata": {},
          "execution_count": 38
        }
      ]
    },
    {
      "cell_type": "code",
      "source": [
        "# why separate objects to handle data and time when python already has datetime functionality?"
      ],
      "metadata": {
        "id": "fVzCjSjJAZBE"
      },
      "execution_count": 39,
      "outputs": []
    },
    {
      "cell_type": "markdown",
      "source": [
        "- syntax wise datetime is very convenient\n",
        "- But the performance takes a hit while working with huge data. List vs Numpy Array\n",
        "- The weaknesses of Python's datetime format inspired the NumPy team to add a set of native time series data type to NumPy.\n",
        "- The datetime64 dtype encodes dates as 64-bit integers, and thus allows arrays of dates to be represented very compactly."
      ],
      "metadata": {
        "id": "97HDE2UJXyoT"
      }
    },
    {
      "cell_type": "code",
      "source": [
        "import numpy as np\n",
        "date = np.array('2015-07-04', dtype=np.datetime64)\n",
        "date"
      ],
      "metadata": {
        "colab": {
          "base_uri": "https://localhost:8080/"
        },
        "id": "MkuVP85DZyp0",
        "outputId": "e48926a0-1257-47c1-95bc-d7be6ac0572b"
      },
      "execution_count": 40,
      "outputs": [
        {
          "output_type": "execute_result",
          "data": {
            "text/plain": [
              "array('2015-07-04', dtype='datetime64[D]')"
            ]
          },
          "metadata": {},
          "execution_count": 40
        }
      ]
    },
    {
      "cell_type": "code",
      "source": [
        "date + np.arange(12)"
      ],
      "metadata": {
        "colab": {
          "base_uri": "https://localhost:8080/"
        },
        "id": "Ak5u64W6aBCS",
        "outputId": "35ad39e9-d26b-4716-f9f0-af302b76d90a"
      },
      "execution_count": 41,
      "outputs": [
        {
          "output_type": "execute_result",
          "data": {
            "text/plain": [
              "array(['2015-07-04', '2015-07-05', '2015-07-06', '2015-07-07',\n",
              "       '2015-07-08', '2015-07-09', '2015-07-10', '2015-07-11',\n",
              "       '2015-07-12', '2015-07-13', '2015-07-14', '2015-07-15'],\n",
              "      dtype='datetime64[D]')"
            ]
          },
          "metadata": {},
          "execution_count": 41
        }
      ]
    },
    {
      "cell_type": "markdown",
      "source": [
        "- Because of the uniform type in NumPy datetime64 arrays, this type of operation can be accomplished much more quickly than if we were working directly with Python's datetime objects, especially as arrays get large \n",
        "\n",
        "- Pandas Timestamp object combines the ease-of-use of python datetime with the efficient storage and vectorized interface of numpy.datetime64\n",
        "\n",
        "- From a group of these Timestamp objects, Pandas can construct a DatetimeIndex that can be used to index data in a Series or DataFrame"
      ],
      "metadata": {
        "id": "qyORT7KHZ29h"
      }
    },
    {
      "cell_type": "markdown",
      "source": [
        "### DatetimeIndex Object\n",
        "\n",
        "A collection of pandas timestamp"
      ],
      "metadata": {
        "id": "eQQXAaHDxP8n"
      }
    },
    {
      "cell_type": "code",
      "source": [
        "# from strings\n",
        "type(pd.DatetimeIndex(['2023/1/1','2022/1/1','2021/1/1']))"
      ],
      "metadata": {
        "colab": {
          "base_uri": "https://localhost:8080/"
        },
        "id": "3nI4CFQaxx84",
        "outputId": "dfb40f64-ade6-4bcf-b665-a4990b04fff8"
      },
      "execution_count": 42,
      "outputs": [
        {
          "output_type": "execute_result",
          "data": {
            "text/plain": [
              "pandas.core.indexes.datetimes.DatetimeIndex"
            ]
          },
          "metadata": {},
          "execution_count": 42
        }
      ]
    },
    {
      "cell_type": "code",
      "source": [
        "# using python datetime object\n",
        "pd.DatetimeIndex([dt.datetime(2023,1,1),dt.datetime(2022,1,1),dt.datetime(2021,1,1)])"
      ],
      "metadata": {
        "colab": {
          "base_uri": "https://localhost:8080/"
        },
        "id": "prE2fraR1l3F",
        "outputId": "d182d8f2-f07a-4a60-dd23-cfb79647b087"
      },
      "execution_count": 43,
      "outputs": [
        {
          "output_type": "execute_result",
          "data": {
            "text/plain": [
              "DatetimeIndex(['2023-01-01', '2022-01-01', '2021-01-01'], dtype='datetime64[ns]', freq=None)"
            ]
          },
          "metadata": {},
          "execution_count": 43
        }
      ]
    },
    {
      "cell_type": "code",
      "source": [
        "# using pd.timestamps\n",
        "dt_index = pd.DatetimeIndex([pd.Timestamp(2023,1,1),pd.Timestamp(2022,1,1),pd.Timestamp(2021,1,1)])"
      ],
      "metadata": {
        "id": "KwFtOizE1qAT"
      },
      "execution_count": 44,
      "outputs": []
    },
    {
      "cell_type": "code",
      "source": [
        "# using datatimeindex as series index\n",
        "pd.Series([1,2,3],index=dt_index)"
      ],
      "metadata": {
        "colab": {
          "base_uri": "https://localhost:8080/"
        },
        "id": "f8FOZZ1z1tCL",
        "outputId": "7366f33f-4b0f-429d-c491-6a9a79e2ac6d"
      },
      "execution_count": 45,
      "outputs": [
        {
          "output_type": "execute_result",
          "data": {
            "text/plain": [
              "2023-01-01    1\n",
              "2022-01-01    2\n",
              "2021-01-01    3\n",
              "dtype: int64"
            ]
          },
          "metadata": {},
          "execution_count": 45
        }
      ]
    },
    {
      "cell_type": "markdown",
      "source": [
        "### date_range function\n",
        "\n"
      ],
      "metadata": {
        "id": "qxnmC74IxyjI"
      }
    },
    {
      "cell_type": "code",
      "source": [
        "# generate daily dates in a given range\n",
        "pd.date_range(start='2023/1/5',end='2023/1/31',freq='D')"
      ],
      "metadata": {
        "colab": {
          "base_uri": "https://localhost:8080/"
        },
        "id": "tzDg9BOjx1is",
        "outputId": "4bade72c-2091-4f44-9f8d-398f074f6497"
      },
      "execution_count": 63,
      "outputs": [
        {
          "output_type": "execute_result",
          "data": {
            "text/plain": [
              "DatetimeIndex(['2023-01-05', '2023-01-06', '2023-01-07', '2023-01-08',\n",
              "               '2023-01-09', '2023-01-10', '2023-01-11', '2023-01-12',\n",
              "               '2023-01-13', '2023-01-14', '2023-01-15', '2023-01-16',\n",
              "               '2023-01-17', '2023-01-18', '2023-01-19', '2023-01-20',\n",
              "               '2023-01-21', '2023-01-22', '2023-01-23', '2023-01-24',\n",
              "               '2023-01-25', '2023-01-26', '2023-01-27', '2023-01-28',\n",
              "               '2023-01-29', '2023-01-30', '2023-01-31'],\n",
              "              dtype='datetime64[ns]', freq='D')"
            ]
          },
          "metadata": {},
          "execution_count": 63
        }
      ]
    },
    {
      "cell_type": "code",
      "source": [
        "# alternate days in a given range\n",
        "pd.date_range(start='2023/1/5',end='2023/1/31',freq='2D')"
      ],
      "metadata": {
        "id": "-5VkFuUr36bU",
        "outputId": "86c27108-534d-44c8-b2a0-a30733f5dcbd",
        "colab": {
          "base_uri": "https://localhost:8080/"
        }
      },
      "execution_count": 64,
      "outputs": [
        {
          "output_type": "execute_result",
          "data": {
            "text/plain": [
              "DatetimeIndex(['2023-01-05', '2023-01-07', '2023-01-09', '2023-01-11',\n",
              "               '2023-01-13', '2023-01-15', '2023-01-17', '2023-01-19',\n",
              "               '2023-01-21', '2023-01-23', '2023-01-25', '2023-01-27',\n",
              "               '2023-01-29', '2023-01-31'],\n",
              "              dtype='datetime64[ns]', freq='2D')"
            ]
          },
          "metadata": {},
          "execution_count": 64
        }
      ]
    },
    {
      "cell_type": "code",
      "source": [
        "# B -> business days\n",
        "pd.date_range(start='2023/1/5',end='2023/1/31',freq='B')"
      ],
      "metadata": {
        "colab": {
          "base_uri": "https://localhost:8080/"
        },
        "id": "4m_PcUOe39xy",
        "outputId": "9544f589-abe7-4ca9-dc82-ba53056ed3c7"
      },
      "execution_count": 65,
      "outputs": [
        {
          "output_type": "execute_result",
          "data": {
            "text/plain": [
              "DatetimeIndex(['2023-01-05', '2023-01-06', '2023-01-09', '2023-01-10',\n",
              "               '2023-01-11', '2023-01-12', '2023-01-13', '2023-01-16',\n",
              "               '2023-01-17', '2023-01-18', '2023-01-19', '2023-01-20',\n",
              "               '2023-01-23', '2023-01-24', '2023-01-25', '2023-01-26',\n",
              "               '2023-01-27', '2023-01-30', '2023-01-31'],\n",
              "              dtype='datetime64[ns]', freq='B')"
            ]
          },
          "metadata": {},
          "execution_count": 65
        }
      ]
    },
    {
      "cell_type": "code",
      "source": [
        "# W -> one week per day\n",
        "pd.date_range(start='2023/1/5',end='2023/1/31',freq='W-THU')"
      ],
      "metadata": {
        "colab": {
          "base_uri": "https://localhost:8080/"
        },
        "id": "QqrrfRvC4QmV",
        "outputId": "fcf9ea9a-3fb6-46df-bc0d-ab3e2edabb41"
      },
      "execution_count": 66,
      "outputs": [
        {
          "output_type": "execute_result",
          "data": {
            "text/plain": [
              "DatetimeIndex(['2023-01-05', '2023-01-12', '2023-01-19', '2023-01-26'], dtype='datetime64[ns]', freq='W-THU')"
            ]
          },
          "metadata": {},
          "execution_count": 66
        }
      ]
    },
    {
      "cell_type": "code",
      "source": [
        "# H -> Hourly data(factor)\n",
        "pd.date_range(start='2023/1/5',end='2023/2/28',freq='12H')"
      ],
      "metadata": {
        "colab": {
          "base_uri": "https://localhost:8080/"
        },
        "id": "95b_S-rY4Zt-",
        "outputId": "af4aa07e-e4f0-42c3-f785-a3fab0470450"
      },
      "execution_count": 69,
      "outputs": [
        {
          "output_type": "execute_result",
          "data": {
            "text/plain": [
              "DatetimeIndex(['2023-01-05 00:00:00', '2023-01-05 12:00:00',\n",
              "               '2023-01-06 00:00:00', '2023-01-06 12:00:00',\n",
              "               '2023-01-07 00:00:00', '2023-01-07 12:00:00',\n",
              "               '2023-01-08 00:00:00', '2023-01-08 12:00:00',\n",
              "               '2023-01-09 00:00:00', '2023-01-09 12:00:00',\n",
              "               ...\n",
              "               '2023-02-23 12:00:00', '2023-02-24 00:00:00',\n",
              "               '2023-02-24 12:00:00', '2023-02-25 00:00:00',\n",
              "               '2023-02-25 12:00:00', '2023-02-26 00:00:00',\n",
              "               '2023-02-26 12:00:00', '2023-02-27 00:00:00',\n",
              "               '2023-02-27 12:00:00', '2023-02-28 00:00:00'],\n",
              "              dtype='datetime64[ns]', length=109, freq='12H')"
            ]
          },
          "metadata": {},
          "execution_count": 69
        }
      ]
    },
    {
      "cell_type": "code",
      "source": [
        "# M -> Month end\n",
        "pd.date_range(start='2023/1/5',end='2023/2/28',freq='M')"
      ],
      "metadata": {
        "colab": {
          "base_uri": "https://localhost:8080/"
        },
        "id": "T4TgV2Mn4oNg",
        "outputId": "46f92f0d-b13f-4c86-df5f-18dcb57910c7"
      },
      "execution_count": 70,
      "outputs": [
        {
          "output_type": "execute_result",
          "data": {
            "text/plain": [
              "DatetimeIndex(['2023-01-31', '2023-02-28'], dtype='datetime64[ns]', freq='M')"
            ]
          },
          "metadata": {},
          "execution_count": 70
        }
      ]
    },
    {
      "cell_type": "code",
      "source": [
        "# MS -> Month start\n",
        "pd.date_range(start='2023/1/5',end='2023/2/28',freq='MS')"
      ],
      "metadata": {
        "colab": {
          "base_uri": "https://localhost:8080/"
        },
        "id": "biLXdwmM4xFI",
        "outputId": "f928a570-5086-4921-ac59-aa1a2741b8d3"
      },
      "execution_count": 71,
      "outputs": [
        {
          "output_type": "execute_result",
          "data": {
            "text/plain": [
              "DatetimeIndex(['2023-02-01'], dtype='datetime64[ns]', freq='MS')"
            ]
          },
          "metadata": {},
          "execution_count": 71
        }
      ]
    },
    {
      "cell_type": "code",
      "source": [
        "# A -> Year end\n",
        "pd.date_range(start='2023/1/5',end='2030/2/28',freq='A')"
      ],
      "metadata": {
        "colab": {
          "base_uri": "https://localhost:8080/"
        },
        "id": "-OpW9ydF4-_f",
        "outputId": "e72c6310-f7bd-47d0-bfa5-33b35ad28838"
      },
      "execution_count": 72,
      "outputs": [
        {
          "output_type": "execute_result",
          "data": {
            "text/plain": [
              "DatetimeIndex(['2023-12-31', '2024-12-31', '2025-12-31', '2026-12-31',\n",
              "               '2027-12-31', '2028-12-31', '2029-12-31'],\n",
              "              dtype='datetime64[ns]', freq='A-DEC')"
            ]
          },
          "metadata": {},
          "execution_count": 72
        }
      ]
    },
    {
      "cell_type": "code",
      "source": [
        "# using periods(number of results)\n",
        "pd.date_range(start='2023/1/5',periods=25,freq='M')"
      ],
      "metadata": {
        "colab": {
          "base_uri": "https://localhost:8080/"
        },
        "id": "zUz1UWoQ5CQD",
        "outputId": "001e5463-2649-43a2-adb5-4b3fa0d479c4"
      },
      "execution_count": 73,
      "outputs": [
        {
          "output_type": "execute_result",
          "data": {
            "text/plain": [
              "DatetimeIndex(['2023-01-31', '2023-02-28', '2023-03-31', '2023-04-30',\n",
              "               '2023-05-31', '2023-06-30', '2023-07-31', '2023-08-31',\n",
              "               '2023-09-30', '2023-10-31', '2023-11-30', '2023-12-31',\n",
              "               '2024-01-31', '2024-02-29', '2024-03-31', '2024-04-30',\n",
              "               '2024-05-31', '2024-06-30', '2024-07-31', '2024-08-31',\n",
              "               '2024-09-30', '2024-10-31', '2024-11-30', '2024-12-31',\n",
              "               '2025-01-31'],\n",
              "              dtype='datetime64[ns]', freq='M')"
            ]
          },
          "metadata": {},
          "execution_count": 73
        }
      ]
    },
    {
      "cell_type": "markdown",
      "source": [
        "### to_datetime function\n",
        "\n",
        "converts an existing objects to pandas timestamp/datetimeindex object"
      ],
      "metadata": {
        "id": "gzxkbZjUx3Hd"
      }
    },
    {
      "cell_type": "code",
      "source": [
        "# simple series example\n",
        "\n",
        "s = pd.Series(['2023/1/1','2022/1/1','2021/1/1'])\n",
        "s.str.split('/').str.get(0)\n",
        "pd.to_datetime(s).dt.year"
      ],
      "metadata": {
        "colab": {
          "base_uri": "https://localhost:8080/"
        },
        "id": "d4smd0-fD1Hw",
        "outputId": "c55ed675-fb3e-454d-e3c8-179d920d3c66"
      },
      "execution_count": 78,
      "outputs": [
        {
          "output_type": "execute_result",
          "data": {
            "text/plain": [
              "0    2023\n",
              "1    2022\n",
              "2    2021\n",
              "dtype: int64"
            ]
          },
          "metadata": {},
          "execution_count": 78
        }
      ]
    },
    {
      "cell_type": "code",
      "source": [
        "# with errors\n",
        "s = pd.Series(['2023/1/1','2022/1/1','2021/130/1'])\n",
        "pd.to_datetime(s,errors='coerce').dt.year"
      ],
      "metadata": {
        "colab": {
          "base_uri": "https://localhost:8080/"
        },
        "id": "eMQPrIPHD3aO",
        "outputId": "149e263f-8ce1-45c1-fb5c-c295c77d9638"
      },
      "execution_count": 80,
      "outputs": [
        {
          "output_type": "execute_result",
          "data": {
            "text/plain": [
              "0    2023.0\n",
              "1    2022.0\n",
              "2       NaN\n",
              "dtype: float64"
            ]
          },
          "metadata": {},
          "execution_count": 80
        }
      ]
    },
    {
      "cell_type": "code",
      "source": [
        "df = pd.read_csv('/content/expense_data.csv')\n",
        "df.shape"
      ],
      "metadata": {
        "colab": {
          "base_uri": "https://localhost:8080/"
        },
        "id": "yCCP7dyEx2WO",
        "outputId": "0fcca0e5-b395-4815-87f3-91260a584bce"
      },
      "execution_count": 81,
      "outputs": [
        {
          "output_type": "execute_result",
          "data": {
            "text/plain": [
              "(277, 11)"
            ]
          },
          "metadata": {},
          "execution_count": 81
        }
      ]
    },
    {
      "cell_type": "code",
      "source": [
        "df.head()"
      ],
      "metadata": {
        "colab": {
          "base_uri": "https://localhost:8080/",
          "height": 206
        },
        "id": "4wkwLHyn-F5T",
        "outputId": "b32e3f13-2a9c-4ad9-d5b5-d5a2ff6af7ba"
      },
      "execution_count": 82,
      "outputs": [
        {
          "output_type": "execute_result",
          "data": {
            "text/plain": [
              "             Date               Account        Category  Subcategory  \\\n",
              "0  3/2/2022 10:11  CUB - online payment            Food          NaN   \n",
              "1  3/2/2022 10:11  CUB - online payment           Other          NaN   \n",
              "2  3/1/2022 19:50  CUB - online payment            Food          NaN   \n",
              "3  3/1/2022 18:56  CUB - online payment  Transportation          NaN   \n",
              "4  3/1/2022 18:22  CUB - online payment            Food          NaN   \n",
              "\n",
              "               Note    INR Income/Expense  Note.1  Amount Currency  Account.1  \n",
              "0           Brownie   50.0        Expense     NaN    50.0      INR       50.0  \n",
              "1  To lended people  300.0        Expense     NaN   300.0      INR      300.0  \n",
              "2            Dinner   78.0        Expense     NaN    78.0      INR       78.0  \n",
              "3             Metro   30.0        Expense     NaN    30.0      INR       30.0  \n",
              "4            Snacks   67.0        Expense     NaN    67.0      INR       67.0  "
            ],
            "text/html": [
              "\n",
              "  <div id=\"df-e76494c1-6828-48c7-9aa4-a051dee5c391\">\n",
              "    <div class=\"colab-df-container\">\n",
              "      <div>\n",
              "<style scoped>\n",
              "    .dataframe tbody tr th:only-of-type {\n",
              "        vertical-align: middle;\n",
              "    }\n",
              "\n",
              "    .dataframe tbody tr th {\n",
              "        vertical-align: top;\n",
              "    }\n",
              "\n",
              "    .dataframe thead th {\n",
              "        text-align: right;\n",
              "    }\n",
              "</style>\n",
              "<table border=\"1\" class=\"dataframe\">\n",
              "  <thead>\n",
              "    <tr style=\"text-align: right;\">\n",
              "      <th></th>\n",
              "      <th>Date</th>\n",
              "      <th>Account</th>\n",
              "      <th>Category</th>\n",
              "      <th>Subcategory</th>\n",
              "      <th>Note</th>\n",
              "      <th>INR</th>\n",
              "      <th>Income/Expense</th>\n",
              "      <th>Note.1</th>\n",
              "      <th>Amount</th>\n",
              "      <th>Currency</th>\n",
              "      <th>Account.1</th>\n",
              "    </tr>\n",
              "  </thead>\n",
              "  <tbody>\n",
              "    <tr>\n",
              "      <th>0</th>\n",
              "      <td>3/2/2022 10:11</td>\n",
              "      <td>CUB - online payment</td>\n",
              "      <td>Food</td>\n",
              "      <td>NaN</td>\n",
              "      <td>Brownie</td>\n",
              "      <td>50.0</td>\n",
              "      <td>Expense</td>\n",
              "      <td>NaN</td>\n",
              "      <td>50.0</td>\n",
              "      <td>INR</td>\n",
              "      <td>50.0</td>\n",
              "    </tr>\n",
              "    <tr>\n",
              "      <th>1</th>\n",
              "      <td>3/2/2022 10:11</td>\n",
              "      <td>CUB - online payment</td>\n",
              "      <td>Other</td>\n",
              "      <td>NaN</td>\n",
              "      <td>To lended people</td>\n",
              "      <td>300.0</td>\n",
              "      <td>Expense</td>\n",
              "      <td>NaN</td>\n",
              "      <td>300.0</td>\n",
              "      <td>INR</td>\n",
              "      <td>300.0</td>\n",
              "    </tr>\n",
              "    <tr>\n",
              "      <th>2</th>\n",
              "      <td>3/1/2022 19:50</td>\n",
              "      <td>CUB - online payment</td>\n",
              "      <td>Food</td>\n",
              "      <td>NaN</td>\n",
              "      <td>Dinner</td>\n",
              "      <td>78.0</td>\n",
              "      <td>Expense</td>\n",
              "      <td>NaN</td>\n",
              "      <td>78.0</td>\n",
              "      <td>INR</td>\n",
              "      <td>78.0</td>\n",
              "    </tr>\n",
              "    <tr>\n",
              "      <th>3</th>\n",
              "      <td>3/1/2022 18:56</td>\n",
              "      <td>CUB - online payment</td>\n",
              "      <td>Transportation</td>\n",
              "      <td>NaN</td>\n",
              "      <td>Metro</td>\n",
              "      <td>30.0</td>\n",
              "      <td>Expense</td>\n",
              "      <td>NaN</td>\n",
              "      <td>30.0</td>\n",
              "      <td>INR</td>\n",
              "      <td>30.0</td>\n",
              "    </tr>\n",
              "    <tr>\n",
              "      <th>4</th>\n",
              "      <td>3/1/2022 18:22</td>\n",
              "      <td>CUB - online payment</td>\n",
              "      <td>Food</td>\n",
              "      <td>NaN</td>\n",
              "      <td>Snacks</td>\n",
              "      <td>67.0</td>\n",
              "      <td>Expense</td>\n",
              "      <td>NaN</td>\n",
              "      <td>67.0</td>\n",
              "      <td>INR</td>\n",
              "      <td>67.0</td>\n",
              "    </tr>\n",
              "  </tbody>\n",
              "</table>\n",
              "</div>\n",
              "      <button class=\"colab-df-convert\" onclick=\"convertToInteractive('df-e76494c1-6828-48c7-9aa4-a051dee5c391')\"\n",
              "              title=\"Convert this dataframe to an interactive table.\"\n",
              "              style=\"display:none;\">\n",
              "        \n",
              "  <svg xmlns=\"http://www.w3.org/2000/svg\" height=\"24px\"viewBox=\"0 0 24 24\"\n",
              "       width=\"24px\">\n",
              "    <path d=\"M0 0h24v24H0V0z\" fill=\"none\"/>\n",
              "    <path d=\"M18.56 5.44l.94 2.06.94-2.06 2.06-.94-2.06-.94-.94-2.06-.94 2.06-2.06.94zm-11 1L8.5 8.5l.94-2.06 2.06-.94-2.06-.94L8.5 2.5l-.94 2.06-2.06.94zm10 10l.94 2.06.94-2.06 2.06-.94-2.06-.94-.94-2.06-.94 2.06-2.06.94z\"/><path d=\"M17.41 7.96l-1.37-1.37c-.4-.4-.92-.59-1.43-.59-.52 0-1.04.2-1.43.59L10.3 9.45l-7.72 7.72c-.78.78-.78 2.05 0 2.83L4 21.41c.39.39.9.59 1.41.59.51 0 1.02-.2 1.41-.59l7.78-7.78 2.81-2.81c.8-.78.8-2.07 0-2.86zM5.41 20L4 18.59l7.72-7.72 1.47 1.35L5.41 20z\"/>\n",
              "  </svg>\n",
              "      </button>\n",
              "      \n",
              "  <style>\n",
              "    .colab-df-container {\n",
              "      display:flex;\n",
              "      flex-wrap:wrap;\n",
              "      gap: 12px;\n",
              "    }\n",
              "\n",
              "    .colab-df-convert {\n",
              "      background-color: #E8F0FE;\n",
              "      border: none;\n",
              "      border-radius: 50%;\n",
              "      cursor: pointer;\n",
              "      display: none;\n",
              "      fill: #1967D2;\n",
              "      height: 32px;\n",
              "      padding: 0 0 0 0;\n",
              "      width: 32px;\n",
              "    }\n",
              "\n",
              "    .colab-df-convert:hover {\n",
              "      background-color: #E2EBFA;\n",
              "      box-shadow: 0px 1px 2px rgba(60, 64, 67, 0.3), 0px 1px 3px 1px rgba(60, 64, 67, 0.15);\n",
              "      fill: #174EA6;\n",
              "    }\n",
              "\n",
              "    [theme=dark] .colab-df-convert {\n",
              "      background-color: #3B4455;\n",
              "      fill: #D2E3FC;\n",
              "    }\n",
              "\n",
              "    [theme=dark] .colab-df-convert:hover {\n",
              "      background-color: #434B5C;\n",
              "      box-shadow: 0px 1px 3px 1px rgba(0, 0, 0, 0.15);\n",
              "      filter: drop-shadow(0px 1px 2px rgba(0, 0, 0, 0.3));\n",
              "      fill: #FFFFFF;\n",
              "    }\n",
              "  </style>\n",
              "\n",
              "      <script>\n",
              "        const buttonEl =\n",
              "          document.querySelector('#df-e76494c1-6828-48c7-9aa4-a051dee5c391 button.colab-df-convert');\n",
              "        buttonEl.style.display =\n",
              "          google.colab.kernel.accessAllowed ? 'block' : 'none';\n",
              "\n",
              "        async function convertToInteractive(key) {\n",
              "          const element = document.querySelector('#df-e76494c1-6828-48c7-9aa4-a051dee5c391');\n",
              "          const dataTable =\n",
              "            await google.colab.kernel.invokeFunction('convertToInteractive',\n",
              "                                                     [key], {});\n",
              "          if (!dataTable) return;\n",
              "\n",
              "          const docLinkHtml = 'Like what you see? Visit the ' +\n",
              "            '<a target=\"_blank\" href=https://colab.research.google.com/notebooks/data_table.ipynb>data table notebook</a>'\n",
              "            + ' to learn more about interactive tables.';\n",
              "          element.innerHTML = '';\n",
              "          dataTable['output_type'] = 'display_data';\n",
              "          await google.colab.output.renderOutput(dataTable, element);\n",
              "          const docLink = document.createElement('div');\n",
              "          docLink.innerHTML = docLinkHtml;\n",
              "          element.appendChild(docLink);\n",
              "        }\n",
              "      </script>\n",
              "    </div>\n",
              "  </div>\n",
              "  "
            ]
          },
          "metadata": {},
          "execution_count": 82
        }
      ]
    },
    {
      "cell_type": "code",
      "source": [
        "df['Date'] = pd.to_datetime(df['Date'])"
      ],
      "metadata": {
        "id": "-RyeFdJful1r"
      },
      "execution_count": 83,
      "outputs": []
    },
    {
      "cell_type": "code",
      "source": [
        "df.info()"
      ],
      "metadata": {
        "colab": {
          "base_uri": "https://localhost:8080/"
        },
        "id": "LUeZsnxmu2OL",
        "outputId": "d299d764-da1d-4c9e-9c21-b0c05cd33b37"
      },
      "execution_count": 84,
      "outputs": [
        {
          "output_type": "stream",
          "name": "stdout",
          "text": [
            "<class 'pandas.core.frame.DataFrame'>\n",
            "RangeIndex: 277 entries, 0 to 276\n",
            "Data columns (total 11 columns):\n",
            " #   Column          Non-Null Count  Dtype         \n",
            "---  ------          --------------  -----         \n",
            " 0   Date            277 non-null    datetime64[ns]\n",
            " 1   Account         277 non-null    object        \n",
            " 2   Category        277 non-null    object        \n",
            " 3   Subcategory     0 non-null      float64       \n",
            " 4   Note            273 non-null    object        \n",
            " 5   INR             277 non-null    float64       \n",
            " 6   Income/Expense  277 non-null    object        \n",
            " 7   Note.1          0 non-null      float64       \n",
            " 8   Amount          277 non-null    float64       \n",
            " 9   Currency        277 non-null    object        \n",
            " 10  Account.1       277 non-null    float64       \n",
            "dtypes: datetime64[ns](1), float64(5), object(5)\n",
            "memory usage: 23.9+ KB\n"
          ]
        }
      ]
    },
    {
      "cell_type": "markdown",
      "source": [
        "### dt accessor\n",
        "\n",
        "Accessor object for datetimelike properties of the Series values."
      ],
      "metadata": {
        "id": "Y3yo25n0x6dn"
      }
    },
    {
      "cell_type": "code",
      "source": [
        "df['day_name'] = df['Date'].dt.day_name()"
      ],
      "metadata": {
        "id": "rIJ6Yvmjx7xw"
      },
      "execution_count": 98,
      "outputs": []
    },
    {
      "cell_type": "code",
      "source": [
        "df.head()"
      ],
      "metadata": {
        "id": "ra9gmpBVztK2",
        "outputId": "bc242680-27e5-4007-bda0-711ad773b835",
        "colab": {
          "base_uri": "https://localhost:8080/",
          "height": 206
        }
      },
      "execution_count": 99,
      "outputs": [
        {
          "output_type": "execute_result",
          "data": {
            "text/plain": [
              "                 Date               Account        Category  Subcategory  \\\n",
              "0 2022-03-02 10:11:00  CUB - online payment            Food          NaN   \n",
              "1 2022-03-02 10:11:00  CUB - online payment           Other          NaN   \n",
              "2 2022-03-01 19:50:00  CUB - online payment            Food          NaN   \n",
              "3 2022-03-01 18:56:00  CUB - online payment  Transportation          NaN   \n",
              "4 2022-03-01 18:22:00  CUB - online payment            Food          NaN   \n",
              "\n",
              "               Note    INR Income/Expense  Note.1  Amount Currency  Account.1  \\\n",
              "0           Brownie   50.0        Expense     NaN    50.0      INR       50.0   \n",
              "1  To lended people  300.0        Expense     NaN   300.0      INR      300.0   \n",
              "2            Dinner   78.0        Expense     NaN    78.0      INR       78.0   \n",
              "3             Metro   30.0        Expense     NaN    30.0      INR       30.0   \n",
              "4            Snacks   67.0        Expense     NaN    67.0      INR       67.0   \n",
              "\n",
              "    day_name  \n",
              "0  Wednesday  \n",
              "1  Wednesday  \n",
              "2    Tuesday  \n",
              "3    Tuesday  \n",
              "4    Tuesday  "
            ],
            "text/html": [
              "\n",
              "  <div id=\"df-600426eb-c9c3-4543-ab3e-636ed8fbedda\">\n",
              "    <div class=\"colab-df-container\">\n",
              "      <div>\n",
              "<style scoped>\n",
              "    .dataframe tbody tr th:only-of-type {\n",
              "        vertical-align: middle;\n",
              "    }\n",
              "\n",
              "    .dataframe tbody tr th {\n",
              "        vertical-align: top;\n",
              "    }\n",
              "\n",
              "    .dataframe thead th {\n",
              "        text-align: right;\n",
              "    }\n",
              "</style>\n",
              "<table border=\"1\" class=\"dataframe\">\n",
              "  <thead>\n",
              "    <tr style=\"text-align: right;\">\n",
              "      <th></th>\n",
              "      <th>Date</th>\n",
              "      <th>Account</th>\n",
              "      <th>Category</th>\n",
              "      <th>Subcategory</th>\n",
              "      <th>Note</th>\n",
              "      <th>INR</th>\n",
              "      <th>Income/Expense</th>\n",
              "      <th>Note.1</th>\n",
              "      <th>Amount</th>\n",
              "      <th>Currency</th>\n",
              "      <th>Account.1</th>\n",
              "      <th>day_name</th>\n",
              "    </tr>\n",
              "  </thead>\n",
              "  <tbody>\n",
              "    <tr>\n",
              "      <th>0</th>\n",
              "      <td>2022-03-02 10:11:00</td>\n",
              "      <td>CUB - online payment</td>\n",
              "      <td>Food</td>\n",
              "      <td>NaN</td>\n",
              "      <td>Brownie</td>\n",
              "      <td>50.0</td>\n",
              "      <td>Expense</td>\n",
              "      <td>NaN</td>\n",
              "      <td>50.0</td>\n",
              "      <td>INR</td>\n",
              "      <td>50.0</td>\n",
              "      <td>Wednesday</td>\n",
              "    </tr>\n",
              "    <tr>\n",
              "      <th>1</th>\n",
              "      <td>2022-03-02 10:11:00</td>\n",
              "      <td>CUB - online payment</td>\n",
              "      <td>Other</td>\n",
              "      <td>NaN</td>\n",
              "      <td>To lended people</td>\n",
              "      <td>300.0</td>\n",
              "      <td>Expense</td>\n",
              "      <td>NaN</td>\n",
              "      <td>300.0</td>\n",
              "      <td>INR</td>\n",
              "      <td>300.0</td>\n",
              "      <td>Wednesday</td>\n",
              "    </tr>\n",
              "    <tr>\n",
              "      <th>2</th>\n",
              "      <td>2022-03-01 19:50:00</td>\n",
              "      <td>CUB - online payment</td>\n",
              "      <td>Food</td>\n",
              "      <td>NaN</td>\n",
              "      <td>Dinner</td>\n",
              "      <td>78.0</td>\n",
              "      <td>Expense</td>\n",
              "      <td>NaN</td>\n",
              "      <td>78.0</td>\n",
              "      <td>INR</td>\n",
              "      <td>78.0</td>\n",
              "      <td>Tuesday</td>\n",
              "    </tr>\n",
              "    <tr>\n",
              "      <th>3</th>\n",
              "      <td>2022-03-01 18:56:00</td>\n",
              "      <td>CUB - online payment</td>\n",
              "      <td>Transportation</td>\n",
              "      <td>NaN</td>\n",
              "      <td>Metro</td>\n",
              "      <td>30.0</td>\n",
              "      <td>Expense</td>\n",
              "      <td>NaN</td>\n",
              "      <td>30.0</td>\n",
              "      <td>INR</td>\n",
              "      <td>30.0</td>\n",
              "      <td>Tuesday</td>\n",
              "    </tr>\n",
              "    <tr>\n",
              "      <th>4</th>\n",
              "      <td>2022-03-01 18:22:00</td>\n",
              "      <td>CUB - online payment</td>\n",
              "      <td>Food</td>\n",
              "      <td>NaN</td>\n",
              "      <td>Snacks</td>\n",
              "      <td>67.0</td>\n",
              "      <td>Expense</td>\n",
              "      <td>NaN</td>\n",
              "      <td>67.0</td>\n",
              "      <td>INR</td>\n",
              "      <td>67.0</td>\n",
              "      <td>Tuesday</td>\n",
              "    </tr>\n",
              "  </tbody>\n",
              "</table>\n",
              "</div>\n",
              "      <button class=\"colab-df-convert\" onclick=\"convertToInteractive('df-600426eb-c9c3-4543-ab3e-636ed8fbedda')\"\n",
              "              title=\"Convert this dataframe to an interactive table.\"\n",
              "              style=\"display:none;\">\n",
              "        \n",
              "  <svg xmlns=\"http://www.w3.org/2000/svg\" height=\"24px\"viewBox=\"0 0 24 24\"\n",
              "       width=\"24px\">\n",
              "    <path d=\"M0 0h24v24H0V0z\" fill=\"none\"/>\n",
              "    <path d=\"M18.56 5.44l.94 2.06.94-2.06 2.06-.94-2.06-.94-.94-2.06-.94 2.06-2.06.94zm-11 1L8.5 8.5l.94-2.06 2.06-.94-2.06-.94L8.5 2.5l-.94 2.06-2.06.94zm10 10l.94 2.06.94-2.06 2.06-.94-2.06-.94-.94-2.06-.94 2.06-2.06.94z\"/><path d=\"M17.41 7.96l-1.37-1.37c-.4-.4-.92-.59-1.43-.59-.52 0-1.04.2-1.43.59L10.3 9.45l-7.72 7.72c-.78.78-.78 2.05 0 2.83L4 21.41c.39.39.9.59 1.41.59.51 0 1.02-.2 1.41-.59l7.78-7.78 2.81-2.81c.8-.78.8-2.07 0-2.86zM5.41 20L4 18.59l7.72-7.72 1.47 1.35L5.41 20z\"/>\n",
              "  </svg>\n",
              "      </button>\n",
              "      \n",
              "  <style>\n",
              "    .colab-df-container {\n",
              "      display:flex;\n",
              "      flex-wrap:wrap;\n",
              "      gap: 12px;\n",
              "    }\n",
              "\n",
              "    .colab-df-convert {\n",
              "      background-color: #E8F0FE;\n",
              "      border: none;\n",
              "      border-radius: 50%;\n",
              "      cursor: pointer;\n",
              "      display: none;\n",
              "      fill: #1967D2;\n",
              "      height: 32px;\n",
              "      padding: 0 0 0 0;\n",
              "      width: 32px;\n",
              "    }\n",
              "\n",
              "    .colab-df-convert:hover {\n",
              "      background-color: #E2EBFA;\n",
              "      box-shadow: 0px 1px 2px rgba(60, 64, 67, 0.3), 0px 1px 3px 1px rgba(60, 64, 67, 0.15);\n",
              "      fill: #174EA6;\n",
              "    }\n",
              "\n",
              "    [theme=dark] .colab-df-convert {\n",
              "      background-color: #3B4455;\n",
              "      fill: #D2E3FC;\n",
              "    }\n",
              "\n",
              "    [theme=dark] .colab-df-convert:hover {\n",
              "      background-color: #434B5C;\n",
              "      box-shadow: 0px 1px 3px 1px rgba(0, 0, 0, 0.15);\n",
              "      filter: drop-shadow(0px 1px 2px rgba(0, 0, 0, 0.3));\n",
              "      fill: #FFFFFF;\n",
              "    }\n",
              "  </style>\n",
              "\n",
              "      <script>\n",
              "        const buttonEl =\n",
              "          document.querySelector('#df-600426eb-c9c3-4543-ab3e-636ed8fbedda button.colab-df-convert');\n",
              "        buttonEl.style.display =\n",
              "          google.colab.kernel.accessAllowed ? 'block' : 'none';\n",
              "\n",
              "        async function convertToInteractive(key) {\n",
              "          const element = document.querySelector('#df-600426eb-c9c3-4543-ab3e-636ed8fbedda');\n",
              "          const dataTable =\n",
              "            await google.colab.kernel.invokeFunction('convertToInteractive',\n",
              "                                                     [key], {});\n",
              "          if (!dataTable) return;\n",
              "\n",
              "          const docLinkHtml = 'Like what you see? Visit the ' +\n",
              "            '<a target=\"_blank\" href=https://colab.research.google.com/notebooks/data_table.ipynb>data table notebook</a>'\n",
              "            + ' to learn more about interactive tables.';\n",
              "          element.innerHTML = '';\n",
              "          dataTable['output_type'] = 'display_data';\n",
              "          await google.colab.output.renderOutput(dataTable, element);\n",
              "          const docLink = document.createElement('div');\n",
              "          docLink.innerHTML = docLinkHtml;\n",
              "          element.appendChild(docLink);\n",
              "        }\n",
              "      </script>\n",
              "    </div>\n",
              "  </div>\n",
              "  "
            ]
          },
          "metadata": {},
          "execution_count": 99
        }
      ]
    },
    {
      "cell_type": "code",
      "source": [
        "df['month_name'] = df['Date'].dt.month_name()"
      ],
      "metadata": {
        "id": "L3cerJvjz_AF"
      },
      "execution_count": 104,
      "outputs": []
    },
    {
      "cell_type": "code",
      "source": [
        "# plot graph\n",
        "import matplotlib.pyplot as plt\n",
        "plt.figure(figsize=(10,12))\n",
        "plt.bar(df['day_name'],df['INR'])"
      ],
      "metadata": {
        "id": "b1X1vV3h-klR",
        "outputId": "be81f70e-199e-480d-e071-92bb210e6911",
        "colab": {
          "base_uri": "https://localhost:8080/",
          "height": 717
        }
      },
      "execution_count": 102,
      "outputs": [
        {
          "output_type": "execute_result",
          "data": {
            "text/plain": [
              "<BarContainer object of 277 artists>"
            ]
          },
          "metadata": {},
          "execution_count": 102
        },
        {
          "output_type": "display_data",
          "data": {
            "text/plain": [
              "<Figure size 720x864 with 1 Axes>"
            ],
            "image/png": "[encoded data removed]"
          },
          "metadata": {
            "needs_background": "light"
          }
        }
      ]
    },
    {
      "cell_type": "code",
      "source": [
        "# day wise bar chart/month wise bar chart\n",
        "df.groupby('day_name')['INR'].mean().plot(kind='bar')"
      ],
      "metadata": {
        "id": "F5aCfRqJEQHP",
        "outputId": "a42f44de-8eca-4784-fbba-3749b79d7bcd",
        "colab": {
          "base_uri": "https://localhost:8080/",
          "height": 348
        }
      },
      "execution_count": 107,
      "outputs": [
        {
          "output_type": "execute_result",
          "data": {
            "text/plain": [
              "<matplotlib.axes._subplots.AxesSubplot at 0x7f7668e69490>"
            ]
          },
          "metadata": {},
          "execution_count": 107
        },
        {
          "output_type": "display_data",
          "data": {
            "text/plain": [
              "<Figure size 432x288 with 1 Axes>"
            ],
            "image/png": "[encoded data removed]"
          },
          "metadata": {
            "needs_background": "light"
          }
        }
      ]
    },
    {
      "cell_type": "code",
      "source": [
        "# day wise bar chart/month wise bar chart\n",
        "df.groupby('month_name')['INR'].mean().plot(kind='bar')"
      ],
      "metadata": {
        "id": "062EB2kL0Pe3",
        "outputId": "967e6c5b-3a0e-4cc5-9309-15b7ec7b460f",
        "colab": {
          "base_uri": "https://localhost:8080/",
          "height": 342
        }
      },
      "execution_count": 106,
      "outputs": [
        {
          "output_type": "execute_result",
          "data": {
            "text/plain": [
              "<matplotlib.axes._subplots.AxesSubplot at 0x7f7668f04760>"
            ]
          },
          "metadata": {},
          "execution_count": 106
        },
        {
          "output_type": "display_data",
          "data": {
            "text/plain": [
              "<Figure size 432x288 with 1 Axes>"
            ],
            "image/png": "[encoded data removed]"
          },
          "metadata": {
            "needs_background": "light"
          }
        }
      ]
    },
    {
      "cell_type": "code",
      "source": [],
      "metadata": {
        "id": "1BH8fp1d0fvd"
      },
      "execution_count": null,
      "outputs": []
    }
  ]
}